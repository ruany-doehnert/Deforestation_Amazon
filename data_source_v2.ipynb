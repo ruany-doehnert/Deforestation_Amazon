{
  "nbformat": 4,
  "nbformat_minor": 0,
  "metadata": {
    "colab": {
      "provenance": [],
      "mount_file_id": "1kPjETCYmL3bqtUfHj9nI12HL8J-M2qTq",
      "authorship_tag": "ABX9TyPKt0jwE54bokjejCyd5kmt",
      "include_colab_link": true
    },
    "kernelspec": {
      "name": "python3",
      "display_name": "Python 3"
    },
    "language_info": {
      "name": "python"
    }
  },
  "cells": [
    {
      "cell_type": "markdown",
      "metadata": {
        "id": "view-in-github",
        "colab_type": "text"
      },
      "source": [
        "<a href=\"https://colab.research.google.com/github/ruany-doehnert/Deforestation_Amazon/blob/main/data_source_v2.ipynb\" target=\"_parent\"><img src=\"https://colab.research.google.com/assets/colab-badge.svg\" alt=\"Open In Colab\"/></a>"
      ]
    },
    {
      "cell_type": "code",
      "execution_count": 3,
      "metadata": {
        "id": "_tn53HCeaaNF"
      },
      "outputs": [],
      "source": [
        "# Install and authenticate Earth Engine in Colab\n",
        "# !pip install earthengine-api --quiet\n",
        "# !pip install rasterio"
      ]
    },
    {
      "cell_type": "markdown",
      "source": [
        "Amazon Deforestation Detection - Data Extraction Pipeline\n",
        "========================================================\n",
        "Author: Ruany Doehnert\n",
        "Project: ML-based Amazon Deforestation Prediction\n",
        "Date: July 2025\n",
        "\n",
        "This notebook extracts satellite imagery features for Amazon deforestation\n",
        "prediction using Google Earth Engine and creates a balanced training dataset.\n"
      ],
      "metadata": {
        "id": "4l6AqjhNJDAq"
      }
    },
    {
      "cell_type": "code",
      "source": [
        "import rasterio\n",
        "import numpy as np\n",
        "import pandas as pd\n",
        "import ee\n",
        "import folium\n",
        "import sys\n",
        "import subprocess\n",
        "from datetime import datetime"
      ],
      "metadata": {
        "id": "sI0pVKbuC356"
      },
      "execution_count": 14,
      "outputs": []
    },
    {
      "cell_type": "markdown",
      "source": [
        "Package Installation"
      ],
      "metadata": {
        "id": "_rssLmYBU5Ws"
      }
    },
    {
      "cell_type": "code",
      "source": [
        "def install_package(package_name, import_name=None):\n",
        "    \"\"\"Install package with progress tracking\"\"\"\n",
        "    if import_name is None:\n",
        "        import_name = package_name\n",
        "\n",
        "    try:\n",
        "        __import__(import_name)\n",
        "        print(f\"✅ {package_name} already installed\")\n",
        "        return True\n",
        "    except ImportError:\n",
        "        print(f\"📦 Installing {package_name}...\")\n",
        "        subprocess.check_call([sys.executable, \"-m\", \"pip\", \"install\", package_name, \"--quiet\"])\n",
        "        print(f\"✅ {package_name} installed successfully\")\n",
        "        return True\n",
        "\n",
        "print(\"🚀 Amazon Deforestation ML Project - Setup\")\n",
        "print(\"=\" * 45)\n",
        "print(f\"⏰ Started: {datetime.now().strftime('%Y-%m-%d %H:%M:%S')}\")\n",
        "\n",
        "# Install required packages\n",
        "packages = [\n",
        "    (\"earthengine-api\", \"ee\"),\n",
        "    (\"rasterio\", \"rasterio\"),\n",
        "    (\"folium\", \"folium\")\n",
        "]\n",
        "\n",
        "for package, import_name in packages:\n",
        "    install_package(package, import_name)\n",
        "\n",
        "print(\"\\n🎯 Environment ready for satellite data processing!\")"
      ],
      "metadata": {
        "colab": {
          "base_uri": "https://localhost:8080/"
        },
        "id": "V1aLRC8tUt3B",
        "outputId": "acbd2d5a-cb75-4d4a-84e2-1fbdca09b0b6"
      },
      "execution_count": 15,
      "outputs": [
        {
          "output_type": "stream",
          "name": "stdout",
          "text": [
            "🚀 Amazon Deforestation ML Project - Setup\n",
            "=============================================\n",
            "⏰ Started: 2025-07-14 05:13:11\n",
            "✅ earthengine-api already installed\n",
            "✅ rasterio already installed\n",
            "✅ folium already installed\n",
            "\n",
            "🎯 Environment ready for satellite data processing!\n"
          ]
        }
      ]
    },
    {
      "cell_type": "markdown",
      "source": [
        "Enhanced Imports with Validation"
      ],
      "metadata": {
        "id": "QNb_nA-jVGfw"
      }
    },
    {
      "cell_type": "code",
      "source": [
        "import rasterio\n",
        "import numpy as np\n",
        "import pandas as pd\n",
        "import ee\n",
        "import folium\n",
        "import json\n",
        "from datetime import datetime\n",
        "import warnings\n",
        "\n",
        "warnings.filterwarnings('ignore')\n",
        "\n",
        "print(\"📚 Loading Required Libraries\")\n",
        "print(\"=\" * 30)\n",
        "\n",
        "# Validate library versions\n",
        "libraries = {\n",
        "    'rasterio': rasterio.__version__,\n",
        "    'numpy': np.__version__,\n",
        "    'pandas': pd.__version__,\n",
        "    'folium': folium.__version__\n",
        "}\n",
        "\n",
        "for lib, version in libraries.items():\n",
        "    print(f\"   ✅ {lib}: v{version}\")\n",
        "\n",
        "print(f\"   ✅ earthengine-api: ready\")\n",
        "print(f\"\\n🌍 Ready to process Amazon satellite data!\")"
      ],
      "metadata": {
        "colab": {
          "base_uri": "https://localhost:8080/"
        },
        "id": "CI9QizaMVHhg",
        "outputId": "fa00c082-75b2-4c1d-ea37-397dfea13400"
      },
      "execution_count": 16,
      "outputs": [
        {
          "output_type": "stream",
          "name": "stdout",
          "text": [
            "📚 Loading Required Libraries\n",
            "==============================\n",
            "   ✅ rasterio: v1.4.3\n",
            "   ✅ numpy: v2.0.2\n",
            "   ✅ pandas: v2.2.2\n",
            "   ✅ folium: v0.19.7\n",
            "   ✅ earthengine-api: ready\n",
            "\n",
            "🌍 Ready to process Amazon satellite data!\n"
          ]
        }
      ]
    },
    {
      "cell_type": "markdown",
      "source": [
        "Google Drive Connection"
      ],
      "metadata": {
        "id": "UJKHigTTVOKM"
      }
    },
    {
      "cell_type": "code",
      "source": [
        "print(\"💾 Connecting to Google Drive\")\n",
        "print(\"=\" * 28)\n",
        "\n",
        "try:\n",
        "    from google.colab import drive\n",
        "    drive.mount('/content/drive')\n",
        "    print(\"✅ Google Drive mounted successfully\")\n",
        "    print(\"📁 Export folder: /content/drive/MyDrive/amazon_ml_project/\")\n",
        "except Exception as e:\n",
        "    print(f\"⚠️ Drive mount failed: {e}\")\n",
        "    print(\"📝 Note: Exports will go to default Google Drive location\")\n",
        "\n",
        "print(\"🔗 Google Drive connection established!\")"
      ],
      "metadata": {
        "colab": {
          "base_uri": "https://localhost:8080/"
        },
        "id": "U-WbnC0RVPB_",
        "outputId": "36623cc4-58f9-45ab-dce4-b3c9afe93c30"
      },
      "execution_count": 17,
      "outputs": [
        {
          "output_type": "stream",
          "name": "stdout",
          "text": [
            "💾 Connecting to Google Drive\n",
            "============================\n",
            "Drive already mounted at /content/drive; to attempt to forcibly remount, call drive.mount(\"/content/drive\", force_remount=True).\n",
            "✅ Google Drive mounted successfully\n",
            "📁 Export folder: /content/drive/MyDrive/amazon_ml_project/\n",
            "🔗 Google Drive connection established!\n"
          ]
        }
      ]
    },
    {
      "cell_type": "markdown",
      "source": [
        "Data Processing"
      ],
      "metadata": {
        "id": "d6U5ZbXwVadR"
      }
    },
    {
      "cell_type": "code",
      "source": [
        "print(\"🌍 Initializing Amazon Deforestation Analysis\")\n",
        "print(\"=\" * 45)\n",
        "\n",
        "# Authenticate and initialize Earth Engine\n",
        "try:\n",
        "    ee.Authenticate()\n",
        "    ee.Initialize(project='amazon-deforestation-462101')\n",
        "    print(\"✅ Earth Engine authenticated and initialized\")\n",
        "except Exception as e:\n",
        "    print(f\"❌ Earth Engine initialization failed: {e}\")\n",
        "    raise\n",
        "\n",
        "# Define study region (Amazon basin - Brazil/Peru/Colombia border area)\n",
        "region = ee.Geometry.BBox(-71, -17, -44, -1)\n",
        "\n",
        "# Calculate area with proper error margin (THIS FIXES THE ERROR!)\n",
        "region_area_km2 = region.area(maxError=1000).divide(1e6).getInfo()\n",
        "print(f\"📍 Study Region: {region_area_km2:.0f} km² in Amazon basin\")\n",
        "\n",
        "print(\"\\n🛰️ Loading Satellite Data Sources...\")\n",
        "\n",
        "# Hansen Global Forest Change (baseline tree cover)\n",
        "gfc = ee.Image('UMD/hansen/global_forest_change_2022_v1_10')\n",
        "treecover = gfc.select('treecover2000')\n",
        "print(\"   ✅ Hansen Global Forest Change (2000 baseline)\")\n",
        "\n",
        "# Landsat 8 Surface Reflectance (2021 composite)\n",
        "landsat = ee.ImageCollection('LANDSAT/LC08/C02/T1_L2') \\\n",
        "    .filterDate('2021-01-01', '2021-12-31') \\\n",
        "    .filterBounds(region) \\\n",
        "    .median()\n",
        "\n",
        "# Check data availability\n",
        "landsat_count = ee.ImageCollection('LANDSAT/LC08/C02/T1_L2') \\\n",
        "    .filterDate('2021-01-01', '2021-12-31') \\\n",
        "    .filterBounds(region) \\\n",
        "    .size().getInfo()\n",
        "\n",
        "print(f\"   ✅ Landsat 8 Surface Reflectance ({landsat_count} scenes, 2021)\")\n",
        "\n",
        "print(\"\\n🧮 Computing Vegetation Indices...\")\n",
        "\n",
        "# Calculate vegetation indices\n",
        "ndvi = landsat.normalizedDifference(['SR_B5', 'SR_B4']).rename('NDVI')\n",
        "nbr = landsat.normalizedDifference(['SR_B5', 'SR_B7']).rename('NBR')\n",
        "\n",
        "print(\"   ✅ NDVI (forest health indicator)\")\n",
        "print(\"   ✅ NBR (burn/disturbance indicator)\")\n",
        "\n",
        "# Topographic data\n",
        "elevation = ee.Image('USGS/SRTMGL1_003').rename('elevation')\n",
        "print(\"   ✅ SRTM Elevation (30m resolution)\")\n",
        "\n",
        "print(\"\\n🔗 Stacking Feature Bands...\")\n",
        "# Stack all features\n",
        "features = treecover.rename('treecover') \\\n",
        "    .addBands([ndvi, nbr, elevation])\n",
        "\n",
        "feature_list = ['treecover', 'NDVI', 'NBR', 'elevation']\n",
        "print(f\"   📊 Total features: {len(feature_list)}\")\n",
        "for i, feature in enumerate(feature_list, 1):\n",
        "    print(f\"   {i}. {feature}\")\n",
        "\n",
        "print(\"\\n🎯 Improved Sampling Strategy...\")\n",
        "\n",
        "# Enhanced sampling for better class balance\n",
        "samples = features.sample(\n",
        "    region=region,\n",
        "    scale=30,\n",
        "    numPixels=2000,\n",
        "    seed=42,\n",
        "    geometries=True\n",
        ")\n",
        "\n",
        "# Improved labeling function\n",
        "def label_fn(f):\n",
        "    \"\"\"Assign forest/non-forest label based on tree cover threshold\"\"\"\n",
        "    return f.set('label', ee.Number(f.get('treecover')).gt(30).int())\n",
        "\n",
        "samples = samples.map(label_fn)\n",
        "\n",
        "# Get sample statistics\n",
        "total_samples = samples.size().getInfo()\n",
        "print(f\"   📊 Total samples: {total_samples}\")\n",
        "\n",
        "# Calculate class distribution\n",
        "forest_samples = samples.filter(ee.Filter.eq('label', 1)).size().getInfo()\n",
        "non_forest_samples = samples.filter(ee.Filter.eq('label', 0)).size().getInfo()\n",
        "\n",
        "print(f\"   🌲 Forest samples (label=1): {forest_samples}\")\n",
        "print(f\"   🏞️ Non-forest samples (label=0): {non_forest_samples}\")\n",
        "print(f\"   ⚖️ Class balance: {forest_samples/(forest_samples+non_forest_samples)*100:.1f}% forest\")\n",
        "\n",
        "print(\"\\n✅ Feature extraction completed successfully!\")"
      ],
      "metadata": {
        "colab": {
          "base_uri": "https://localhost:8080/"
        },
        "id": "8nubCvORW2uF",
        "outputId": "b1a2d64a-5fa2-4563-eb24-4f02848d0573"
      },
      "execution_count": 18,
      "outputs": [
        {
          "output_type": "stream",
          "name": "stdout",
          "text": [
            "🌍 Initializing Amazon Deforestation Analysis\n",
            "=============================================\n",
            "✅ Earth Engine authenticated and initialized\n",
            "📍 Study Region: 5258491 km² in Amazon basin\n",
            "\n",
            "🛰️ Loading Satellite Data Sources...\n",
            "   ✅ Hansen Global Forest Change (2000 baseline)\n",
            "   ✅ Landsat 8 Surface Reflectance (4221 scenes, 2021)\n",
            "\n",
            "🧮 Computing Vegetation Indices...\n",
            "   ✅ NDVI (forest health indicator)\n",
            "   ✅ NBR (burn/disturbance indicator)\n",
            "   ✅ SRTM Elevation (30m resolution)\n",
            "\n",
            "🔗 Stacking Feature Bands...\n",
            "   📊 Total features: 4\n",
            "   1. treecover\n",
            "   2. NDVI\n",
            "   3. NBR\n",
            "   4. elevation\n",
            "\n",
            "🎯 Improved Sampling Strategy...\n",
            "   📊 Total samples: 2000\n",
            "   🌲 Forest samples (label=1): 1456\n",
            "   🏞️ Non-forest samples (label=0): 544\n",
            "   ⚖️ Class balance: 72.8% forest\n",
            "\n",
            "✅ Feature extraction completed successfully!\n"
          ]
        }
      ]
    },
    {
      "cell_type": "markdown",
      "source": [
        " Export with Metadata"
      ],
      "metadata": {
        "id": "FbwD6L0eV-uv"
      }
    },
    {
      "cell_type": "code",
      "source": [
        "print(\"💾 Exporting Training Dataset\")\n",
        "print(\"=\" * 29)\n",
        "\n",
        "# Create export metadata\n",
        "export_info = {\n",
        "    'timestamp': datetime.now().strftime('%Y-%m-%d %H:%M:%S'),\n",
        "    'region_area_km2': region_area_km2,\n",
        "    'total_samples': total_samples,\n",
        "    'forest_samples': forest_samples,\n",
        "    'non_forest_samples': non_forest_samples\n",
        "}\n",
        "\n",
        "# Export to Drive with better naming\n",
        "task = ee.batch.Export.table.toDrive(\n",
        "    collection=samples,\n",
        "    description='amazon_deforestation_training_data_v2',\n",
        "    folder='amazon_ml_project',\n",
        "    fileNamePrefix='training_data_amazon_balanced',\n",
        "    fileFormat='CSV',\n",
        "    selectors=['treecover', 'NDVI', 'NBR', 'elevation', 'label', '.geo']\n",
        ")\n",
        "\n",
        "task.start()\n",
        "\n",
        "print(\"🚀 Export initiated to Google Drive\")\n",
        "print(f\"📁 Folder: amazon_ml_project\")\n",
        "print(f\"📄 Filename: training_data_amazon_balanced.csv\")\n",
        "print(f\"🔢 Features: {feature_list}\")\n",
        "print(f\"📊 Expected samples: {total_samples}\")\n",
        "print(f\"📍 Includes geometry coordinates\")\n",
        "\n",
        "print(f\"\\n📋 Dataset Summary:\")\n",
        "print(f\"   • Region: Amazon basin ({region_area_km2:.0f} km²)\")\n",
        "print(f\"   • Resolution: 30m Landsat/SRTM\")\n",
        "print(f\"   • Year: 2021 composite\")\n",
        "print(f\"   • Features: {len(feature_list)} environmental variables\")\n",
        "print(f\"   • Balance: {forest_samples} forest + {non_forest_samples} non-forest\")\n",
        "print(f\"   • Total size: {total_samples} training samples\")\n",
        "\n",
        "print(\"\\n⏱️ Export typically takes 2-5 minutes. Check Google Drive!\")"
      ],
      "metadata": {
        "colab": {
          "base_uri": "https://localhost:8080/"
        },
        "id": "JjOlYrcYXMZJ",
        "outputId": "f5d103f8-d7e9-4c9f-a641-f3cbedf490da"
      },
      "execution_count": 19,
      "outputs": [
        {
          "output_type": "stream",
          "name": "stdout",
          "text": [
            "💾 Exporting Training Dataset\n",
            "=============================\n",
            "🚀 Export initiated to Google Drive\n",
            "📁 Folder: amazon_ml_project\n",
            "📄 Filename: training_data_amazon_balanced.csv\n",
            "🔢 Features: ['treecover', 'NDVI', 'NBR', 'elevation']\n",
            "📊 Expected samples: 2000\n",
            "📍 Includes geometry coordinates\n",
            "\n",
            "📋 Dataset Summary:\n",
            "   • Region: Amazon basin (5258491 km²)\n",
            "   • Resolution: 30m Landsat/SRTM\n",
            "   • Year: 2021 composite\n",
            "   • Features: 4 environmental variables\n",
            "   • Balance: 1456 forest + 544 non-forest\n",
            "   • Total size: 2000 training samples\n",
            "\n",
            "⏱️ Export typically takes 2-5 minutes. Check Google Drive!\n"
          ]
        }
      ]
    },
    {
      "cell_type": "markdown",
      "source": [
        " Visualization"
      ],
      "metadata": {
        "id": "hIgWvfoFWEfp"
      }
    },
    {
      "cell_type": "code",
      "source": [
        "print(\"🗺️ Creating Interactive Study Area Map\")\n",
        "print(\"=\" * 35)\n",
        "\n",
        "# Define the bounding box coordinates (fixed coordinates)\n",
        "lon_min, lat_min, lon_max, lat_max = -71, -17, -44, -1\n",
        "\n",
        "# Center of the box\n",
        "center_lat = (lat_min + lat_max) / 2\n",
        "center_lon = (lon_min + lon_max) / 2\n",
        "\n",
        "print(f\"📍 Map Center: {center_lat:.2f}°N, {center_lon:.2f}°W\")\n",
        "\n",
        "# Create enhanced folium map\n",
        "m = folium.Map(\n",
        "    location=[center_lat, center_lon],\n",
        "    zoom_start=6,\n",
        "    tiles='OpenStreetMap'\n",
        ")\n",
        "\n",
        "# Add satellite imagery layer\n",
        "folium.TileLayer(\n",
        "    tiles='https://server.arcgisonline.com/ArcGIS/rest/services/World_Imagery/MapServer/tile/{z}/{y}/{x}',\n",
        "    attr='Esri WorldImagery',\n",
        "    name='Satellite',\n",
        "    overlay=False,\n",
        "    control=True\n",
        ").add_to(m)\n",
        "\n",
        "# Add the bounding box with enhanced styling\n",
        "folium.Rectangle(\n",
        "    bounds=[[lat_min, lon_min], [lat_max, lon_max]],\n",
        "    color='#FF4444',\n",
        "    weight=3,\n",
        "    fill=True,\n",
        "    fillColor='#FF4444',\n",
        "    fillOpacity=0.15,\n",
        "    popup=f\"\"\"\n",
        "    <div style='font-family: Arial; font-size: 12px;'>\n",
        "    <h4>🌲 Amazon Study Region</h4>\n",
        "    <b>Area:</b> {region_area_km2:.0f} km²<br>\n",
        "    <b>Samples:</b> {total_samples:,}<br>\n",
        "    <b>Forest:</b> {forest_samples} ({forest_samples/total_samples*100:.1f}%)<br>\n",
        "    <b>Non-forest:</b> {non_forest_samples} ({non_forest_samples/total_samples*100:.1f}%)<br>\n",
        "    <b>Resolution:</b> 30m<br>\n",
        "    <b>Year:</b> 2021\n",
        "    </div>\n",
        "    \"\"\"\n",
        ").add_to(m)\n",
        "\n",
        "# Enhanced legend\n",
        "legend_html = f'''\n",
        "<div style=\"position: fixed;\n",
        "            bottom: 50px; left: 50px; width: 220px; height: 140px;\n",
        "            background-color: white; border:2px solid grey; z-index:9999;\n",
        "            font-size:12px; padding: 15px; border-radius: 8px; box-shadow: 3px 3px 10px rgba(0,0,0,0.3);\">\n",
        "<h4 style=\"margin-top:0;\">🌲 Amazon Deforestation Study</h4>\n",
        "<p><strong>📊 Total Samples:</strong> {total_samples:,}</p>\n",
        "<p><strong>🌲 Forest:</strong> {forest_samples:,} ({forest_samples/total_samples*100:.1f}%)</p>\n",
        "<p><strong>🏞️ Non-forest:</strong> {non_forest_samples:,} ({non_forest_samples/total_samples*100:.1f}%)</p>\n",
        "<hr style=\"margin: 8px 0;\">\n",
        "<p><strong>📐 Area:</strong> {region_area_km2:.0f} km²</p>\n",
        "<p><strong>🎯 Resolution:</strong> 30m</p>\n",
        "</div>\n",
        "'''\n",
        "\n",
        "m.get_root().html.add_child(folium.Element(legend_html))\n",
        "\n",
        "# Add layer control\n",
        "folium.LayerControl().add_to(m)\n",
        "\n",
        "print(\"✅ Interactive map created successfully!\")\n",
        "print(f\"   • Study area: {region_area_km2:.0f} km² Amazon region\")\n",
        "print(f\"   • Satellite imagery overlay available\")\n",
        "print(f\"   • Enhanced legend with sample statistics\")\n",
        "\n",
        "# Display the map\n",
        "m"
      ],
      "metadata": {
        "colab": {
          "base_uri": "https://localhost:8080/",
          "height": 1000
        },
        "id": "RuA_yU0jXdCB",
        "outputId": "c19ae289-591a-435d-c580-a87cb68ba327"
      },
      "execution_count": 20,
      "outputs": [
        {
          "output_type": "stream",
          "name": "stdout",
          "text": [
            "🗺️ Creating Interactive Study Area Map\n",
            "===================================\n",
            "📍 Map Center: -9.00°N, -57.50°W\n",
            "✅ Interactive map created successfully!\n",
            "   • Study area: 5258491 km² Amazon region\n",
            "   • Satellite imagery overlay available\n",
            "   • Enhanced legend with sample statistics\n"
          ]
        },
        {
          "output_type": "execute_result",
          "data": {
            "text/plain": [
              "<folium.folium.Map at 0x7ebebb5a5bd0>"
            ],
            "text/html": [
              "<div style=\"width:100%;\"><div style=\"position:relative;width:100%;height:0;padding-bottom:60%;\"><span style=\"color:#565656\">Make this Notebook Trusted to load map: File -> Trust Notebook</span><iframe srcdoc=\"&lt;!DOCTYPE html&gt;\n",
              "&lt;html&gt;\n",
              "&lt;head&gt;\n",
              "    \n",
              "    &lt;meta http-equiv=&quot;content-type&quot; content=&quot;text/html; charset=UTF-8&quot; /&gt;\n",
              "    &lt;script src=&quot;https://cdn.jsdelivr.net/npm/leaflet@1.9.3/dist/leaflet.js&quot;&gt;&lt;/script&gt;\n",
              "    &lt;script src=&quot;https://code.jquery.com/jquery-3.7.1.min.js&quot;&gt;&lt;/script&gt;\n",
              "    &lt;script src=&quot;https://cdn.jsdelivr.net/npm/bootstrap@5.2.2/dist/js/bootstrap.bundle.min.js&quot;&gt;&lt;/script&gt;\n",
              "    &lt;script src=&quot;https://cdnjs.cloudflare.com/ajax/libs/Leaflet.awesome-markers/2.0.2/leaflet.awesome-markers.js&quot;&gt;&lt;/script&gt;\n",
              "    &lt;link rel=&quot;stylesheet&quot; href=&quot;https://cdn.jsdelivr.net/npm/leaflet@1.9.3/dist/leaflet.css&quot;/&gt;\n",
              "    &lt;link rel=&quot;stylesheet&quot; href=&quot;https://cdn.jsdelivr.net/npm/bootstrap@5.2.2/dist/css/bootstrap.min.css&quot;/&gt;\n",
              "    &lt;link rel=&quot;stylesheet&quot; href=&quot;https://netdna.bootstrapcdn.com/bootstrap/3.0.0/css/bootstrap-glyphicons.css&quot;/&gt;\n",
              "    &lt;link rel=&quot;stylesheet&quot; href=&quot;https://cdn.jsdelivr.net/npm/@fortawesome/fontawesome-free@6.2.0/css/all.min.css&quot;/&gt;\n",
              "    &lt;link rel=&quot;stylesheet&quot; href=&quot;https://cdnjs.cloudflare.com/ajax/libs/Leaflet.awesome-markers/2.0.2/leaflet.awesome-markers.css&quot;/&gt;\n",
              "    &lt;link rel=&quot;stylesheet&quot; href=&quot;https://cdn.jsdelivr.net/gh/python-visualization/folium/folium/templates/leaflet.awesome.rotate.min.css&quot;/&gt;\n",
              "    \n",
              "            &lt;meta name=&quot;viewport&quot; content=&quot;width=device-width,\n",
              "                initial-scale=1.0, maximum-scale=1.0, user-scalable=no&quot; /&gt;\n",
              "            &lt;style&gt;\n",
              "                #map_0e89f62c1ec6e9e084642a7d6d130087 {\n",
              "                    position: relative;\n",
              "                    width: 100.0%;\n",
              "                    height: 100.0%;\n",
              "                    left: 0.0%;\n",
              "                    top: 0.0%;\n",
              "                }\n",
              "                .leaflet-container { font-size: 1rem; }\n",
              "            &lt;/style&gt;\n",
              "\n",
              "            &lt;style&gt;html, body {\n",
              "                width: 100%;\n",
              "                height: 100%;\n",
              "                margin: 0;\n",
              "                padding: 0;\n",
              "            }\n",
              "            &lt;/style&gt;\n",
              "\n",
              "            &lt;style&gt;#map {\n",
              "                position:absolute;\n",
              "                top:0;\n",
              "                bottom:0;\n",
              "                right:0;\n",
              "                left:0;\n",
              "                }\n",
              "            &lt;/style&gt;\n",
              "\n",
              "            &lt;script&gt;\n",
              "                L_NO_TOUCH = false;\n",
              "                L_DISABLE_3D = false;\n",
              "            &lt;/script&gt;\n",
              "\n",
              "        \n",
              "&lt;/head&gt;\n",
              "&lt;body&gt;\n",
              "    \n",
              "    \n",
              "&lt;div style=&quot;position: fixed; \n",
              "            bottom: 50px; left: 50px; width: 220px; height: 140px; \n",
              "            background-color: white; border:2px solid grey; z-index:9999; \n",
              "            font-size:12px; padding: 15px; border-radius: 8px; box-shadow: 3px 3px 10px rgba(0,0,0,0.3);&quot;&gt;\n",
              "&lt;h4 style=&quot;margin-top:0;&quot;&gt;🌲 Amazon Deforestation Study&lt;/h4&gt;\n",
              "&lt;p&gt;&lt;strong&gt;📊 Total Samples:&lt;/strong&gt; 2,000&lt;/p&gt;\n",
              "&lt;p&gt;&lt;strong&gt;🌲 Forest:&lt;/strong&gt; 1,456 (72.8%)&lt;/p&gt;\n",
              "&lt;p&gt;&lt;strong&gt;🏞️ Non-forest:&lt;/strong&gt; 544 (27.2%)&lt;/p&gt;\n",
              "&lt;hr style=&quot;margin: 8px 0;&quot;&gt;\n",
              "&lt;p&gt;&lt;strong&gt;📐 Area:&lt;/strong&gt; 5258491 km²&lt;/p&gt;\n",
              "&lt;p&gt;&lt;strong&gt;🎯 Resolution:&lt;/strong&gt; 30m&lt;/p&gt;\n",
              "&lt;/div&gt;\n",
              "    \n",
              "            &lt;div class=&quot;folium-map&quot; id=&quot;map_0e89f62c1ec6e9e084642a7d6d130087&quot; &gt;&lt;/div&gt;\n",
              "        \n",
              "&lt;/body&gt;\n",
              "&lt;script&gt;\n",
              "    \n",
              "    \n",
              "            var map_0e89f62c1ec6e9e084642a7d6d130087 = L.map(\n",
              "                &quot;map_0e89f62c1ec6e9e084642a7d6d130087&quot;,\n",
              "                {\n",
              "                    center: [-9.0, -57.5],\n",
              "                    crs: L.CRS.EPSG3857,\n",
              "                    ...{\n",
              "  &quot;zoom&quot;: 6,\n",
              "  &quot;zoomControl&quot;: true,\n",
              "  &quot;preferCanvas&quot;: false,\n",
              "}\n",
              "\n",
              "                }\n",
              "            );\n",
              "\n",
              "            \n",
              "\n",
              "        \n",
              "    \n",
              "            var tile_layer_350bdaaf3d2eb32d09459340d4a89fe6 = L.tileLayer(\n",
              "                &quot;https://tile.openstreetmap.org/{z}/{x}/{y}.png&quot;,\n",
              "                {\n",
              "  &quot;minZoom&quot;: 0,\n",
              "  &quot;maxZoom&quot;: 19,\n",
              "  &quot;maxNativeZoom&quot;: 19,\n",
              "  &quot;noWrap&quot;: false,\n",
              "  &quot;attribution&quot;: &quot;\\u0026copy; \\u003ca href=\\&quot;https://www.openstreetmap.org/copyright\\&quot;\\u003eOpenStreetMap\\u003c/a\\u003e contributors&quot;,\n",
              "  &quot;subdomains&quot;: &quot;abc&quot;,\n",
              "  &quot;detectRetina&quot;: false,\n",
              "  &quot;tms&quot;: false,\n",
              "  &quot;opacity&quot;: 1,\n",
              "}\n",
              "\n",
              "            );\n",
              "        \n",
              "    \n",
              "            tile_layer_350bdaaf3d2eb32d09459340d4a89fe6.addTo(map_0e89f62c1ec6e9e084642a7d6d130087);\n",
              "        \n",
              "    \n",
              "            var tile_layer_330076a93a25e5c7da294e2a21d680db = L.tileLayer(\n",
              "                &quot;https://server.arcgisonline.com/ArcGIS/rest/services/World_Imagery/MapServer/tile/{z}/{y}/{x}&quot;,\n",
              "                {\n",
              "  &quot;minZoom&quot;: 0,\n",
              "  &quot;maxZoom&quot;: 18,\n",
              "  &quot;maxNativeZoom&quot;: 18,\n",
              "  &quot;noWrap&quot;: false,\n",
              "  &quot;attribution&quot;: &quot;Esri WorldImagery&quot;,\n",
              "  &quot;subdomains&quot;: &quot;abc&quot;,\n",
              "  &quot;detectRetina&quot;: false,\n",
              "  &quot;tms&quot;: false,\n",
              "  &quot;opacity&quot;: 1,\n",
              "}\n",
              "\n",
              "            );\n",
              "        \n",
              "    \n",
              "            tile_layer_330076a93a25e5c7da294e2a21d680db.addTo(map_0e89f62c1ec6e9e084642a7d6d130087);\n",
              "        \n",
              "    \n",
              "            var rectangle_2dc06c886cb06cb162c12998128cf4dd = L.rectangle(\n",
              "                [[-17.0, -71.0], [-1.0, -44.0]],\n",
              "                {&quot;bubblingMouseEvents&quot;: true, &quot;color&quot;: &quot;#FF4444&quot;, &quot;dashArray&quot;: null, &quot;dashOffset&quot;: null, &quot;fill&quot;: true, &quot;fillColor&quot;: &quot;#FF4444&quot;, &quot;fillOpacity&quot;: 0.15, &quot;fillRule&quot;: &quot;evenodd&quot;, &quot;lineCap&quot;: &quot;round&quot;, &quot;lineJoin&quot;: &quot;round&quot;, &quot;noClip&quot;: false, &quot;opacity&quot;: 1.0, &quot;smoothFactor&quot;: 1.0, &quot;stroke&quot;: true, &quot;weight&quot;: 3}\n",
              "            ).addTo(map_0e89f62c1ec6e9e084642a7d6d130087);\n",
              "        \n",
              "    \n",
              "        var popup_5d19160909ba279d97cc7f7ae18d5a09 = L.popup({\n",
              "  &quot;maxWidth&quot;: &quot;100%&quot;,\n",
              "});\n",
              "\n",
              "        \n",
              "            \n",
              "                var html_27fbe30f85a4652742e5446c1bac24bc = $(`&lt;div id=&quot;html_27fbe30f85a4652742e5446c1bac24bc&quot; style=&quot;width: 100.0%; height: 100.0%;&quot;&gt;     &lt;div style=&#x27;font-family: Arial; font-size: 12px;&#x27;&gt;     &lt;h4&gt;🌲 Amazon Study Region&lt;/h4&gt;     &lt;b&gt;Area:&lt;/b&gt; 5258491 km²&lt;br&gt;     &lt;b&gt;Samples:&lt;/b&gt; 2,000&lt;br&gt;     &lt;b&gt;Forest:&lt;/b&gt; 1456 (72.8%)&lt;br&gt;     &lt;b&gt;Non-forest:&lt;/b&gt; 544 (27.2%)&lt;br&gt;     &lt;b&gt;Resolution:&lt;/b&gt; 30m&lt;br&gt;     &lt;b&gt;Year:&lt;/b&gt; 2021     &lt;/div&gt;     &lt;/div&gt;`)[0];\n",
              "                popup_5d19160909ba279d97cc7f7ae18d5a09.setContent(html_27fbe30f85a4652742e5446c1bac24bc);\n",
              "            \n",
              "        \n",
              "\n",
              "        rectangle_2dc06c886cb06cb162c12998128cf4dd.bindPopup(popup_5d19160909ba279d97cc7f7ae18d5a09)\n",
              "        ;\n",
              "\n",
              "        \n",
              "    \n",
              "    \n",
              "            var layer_control_5f96a3736eca5ac07d4339819094c076_layers = {\n",
              "                base_layers : {\n",
              "                    &quot;openstreetmap&quot; : tile_layer_350bdaaf3d2eb32d09459340d4a89fe6,\n",
              "                    &quot;Satellite&quot; : tile_layer_330076a93a25e5c7da294e2a21d680db,\n",
              "                },\n",
              "                overlays :  {\n",
              "                },\n",
              "            };\n",
              "            let layer_control_5f96a3736eca5ac07d4339819094c076 = L.control.layers(\n",
              "                layer_control_5f96a3736eca5ac07d4339819094c076_layers.base_layers,\n",
              "                layer_control_5f96a3736eca5ac07d4339819094c076_layers.overlays,\n",
              "                {\n",
              "  &quot;position&quot;: &quot;topright&quot;,\n",
              "  &quot;collapsed&quot;: true,\n",
              "  &quot;autoZIndex&quot;: true,\n",
              "}\n",
              "            ).addTo(map_0e89f62c1ec6e9e084642a7d6d130087);\n",
              "\n",
              "        \n",
              "&lt;/script&gt;\n",
              "&lt;/html&gt;\" style=\"position:absolute;width:100%;height:100%;left:0;top:0;border:none !important;\" allowfullscreen webkitallowfullscreen mozallowfullscreen></iframe></div></div>"
            ]
          },
          "metadata": {},
          "execution_count": 20
        }
      ]
    }
  ]
}