{
  "nbformat": 4,
  "nbformat_minor": 0,
  "metadata": {
    "colab": {
      "provenance": [],
      "mount_file_id": "1kPjETCYmL3bqtUfHj9nI12HL8J-M2qTq",
      "authorship_tag": "ABX9TyOvhqGToolOC2Buw+Xu83lV",
      "include_colab_link": true
    },
    "kernelspec": {
      "name": "python3",
      "display_name": "Python 3"
    },
    "language_info": {
      "name": "python"
    }
  },
  "cells": [
    {
      "cell_type": "markdown",
      "metadata": {
        "id": "view-in-github",
        "colab_type": "text"
      },
      "source": [
        "<a href=\"https://colab.research.google.com/github/ruany-doehnert/Deforestation_Amazon/blob/main/data_source.ipynb\" target=\"_parent\"><img src=\"https://colab.research.google.com/assets/colab-badge.svg\" alt=\"Open In Colab\"/></a>"
      ]
    },
    {
      "cell_type": "code",
      "execution_count": null,
      "metadata": {
        "id": "_tn53HCeaaNF"
      },
      "outputs": [],
      "source": [
        "# Install and authenticate Earth Engine in Colab\n",
        "# !pip install earthengine-api --quiet\n",
        "# !pip install rasterio\n",
        "import rasterio\n",
        "import numpy as np\n",
        "import pandas as pd\n",
        "import ee"
      ]
    },
    {
      "cell_type": "code",
      "source": [
        "# conect with google drive\n",
        "from google.colab import drive\n",
        "drive.mount('/content/drive')"
      ],
      "metadata": {
        "colab": {
          "base_uri": "https://localhost:8080/"
        },
        "id": "iO2Hc0I42TMO",
        "outputId": "3a046ffc-b73d-4428-cd75-81be06f42e05"
      },
      "execution_count": null,
      "outputs": [
        {
          "output_type": "stream",
          "name": "stdout",
          "text": [
            "Drive already mounted at /content/drive; to attempt to forcibly remount, call drive.mount(\"/content/drive\", force_remount=True).\n"
          ]
        }
      ]
    },
    {
      "cell_type": "code",
      "source": [
        "ee.Authenticate()\n",
        "ee.Initialize(project='amazon-deforestation-462101')\n",
        "\n",
        "# Define region of interest (example: small Amazon region)\n",
        "region = ee.Geometry.BBox(-60, -10, -59, -9)\n",
        "\n",
        "# Hansen treecover\n",
        "gfc = ee.Image('UMD/hansen/global_forest_change_2022_v1_10')\n",
        "treecover = gfc.select('treecover2000')\n",
        "\n",
        "# Landsat 8 median composite for 2021\n",
        "landsat = ee.ImageCollection('LANDSAT/LC08/C02/T1_L2') \\\n",
        "    .filterDate('2021-01-01', '2021-12-31') \\\n",
        "    .filterBounds(region) \\\n",
        "    .median()\n",
        "\n",
        "# Calculate NDVI and NBR\n",
        "ndvi = landsat.normalizedDifference(['SR_B5', 'SR_B4']).rename('NDVI')\n",
        "nbr = landsat.normalizedDifference(['SR_B5', 'SR_B7']).rename('NBR')\n",
        "\n",
        "# Elevation\n",
        "elevation = ee.Image('USGS/SRTMGL1_003').rename('elevation')\n",
        "\n",
        "# Stack features\n",
        "features = treecover.rename('treecover') \\\n",
        "    .addBands([ndvi, nbr, elevation])\n",
        "\n",
        "# Sample points in the region\n",
        "samples = features.sample(\n",
        "    region=region,\n",
        "    scale=30,\n",
        "    numPixels=2000,\n",
        "    seed=42,\n",
        "    geometries=True\n",
        ")\n",
        "\n",
        "# Create label: forest if treecover > 30\n",
        "def label_fn(f):\n",
        "    return f.set('label', ee.Number(f.get('treecover')).gt(30).int())\n",
        "samples = samples.map(label_fn)\n",
        "\n",
        "# Export to Drive\n",
        "task = ee.batch.Export.table.toDrive(\n",
        "    collection=samples,\n",
        "    description='export_training_dataset_with_features',\n",
        "    folder='earthengine_export',\n",
        "    fileNamePrefix='training_data_amazon_features',\n",
        "    fileFormat='CSV',\n",
        "    selectors=['treecover', 'NDVI', 'NBR', 'elevation', 'label']\n",
        ")\n",
        "task.start()\n",
        "print(\"🚀 Export started! Check your Google Drive shortly.\")"
      ],
      "metadata": {
        "colab": {
          "base_uri": "https://localhost:8080/"
        },
        "id": "Wsv21nlC1wih",
        "outputId": "a616da83-7b73-4a04-8859-9c2ca46924aa"
      },
      "execution_count": null,
      "outputs": [
        {
          "output_type": "stream",
          "name": "stdout",
          "text": [
            "🚀 Export started! Check your Google Drive shortly.\n"
          ]
        }
      ]
    }
  ]
}