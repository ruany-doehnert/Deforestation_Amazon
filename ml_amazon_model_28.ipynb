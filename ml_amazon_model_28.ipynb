{
  "nbformat": 4,
  "nbformat_minor": 0,
  "metadata": {
    "colab": {
      "provenance": [],
      "authorship_tag": "ABX9TyOLB7imkGUrt2o75sIfJ35d",
      "include_colab_link": true
    },
    "kernelspec": {
      "name": "python3",
      "display_name": "Python 3"
    },
    "language_info": {
      "name": "python"
    }
  },
  "cells": [
    {
      "cell_type": "markdown",
      "metadata": {
        "id": "view-in-github",
        "colab_type": "text"
      },
      "source": [
        "<a href=\"https://colab.research.google.com/github/ruany-doehnert/Deforestation_Amazon/blob/main/ml_amazon_model_28_v2.ipynb\" target=\"_parent\"><img src=\"https://colab.research.google.com/assets/colab-badge.svg\" alt=\"Open In Colab\"/></a>"
      ]
    },
    {
      "cell_type": "markdown",
      "source": [
        "0. Drive Connection"
      ],
      "metadata": {
        "id": "98ZMTXfLa_Hp"
      }
    },
    {
      "cell_type": "code",
      "source": [
        "print(\"💾 Amazon Deforestation ML Model Training\")\n",
        "print(\"=\" * 40)\n",
        "\n",
        "# Connect with google drive\n",
        "from google.colab import drive\n",
        "drive.mount('/content/drive')\n",
        "print(\"✅ Google Drive connected successfully!\")"
      ],
      "metadata": {
        "colab": {
          "base_uri": "https://localhost:8080/"
        },
        "id": "slLcwIbNfCym",
        "outputId": "73cc6000-27ba-4261-bf67-4ae413f6fabb"
      },
      "execution_count": 1,
      "outputs": [
        {
          "output_type": "stream",
          "name": "stdout",
          "text": [
            "💾 Amazon Deforestation ML Model Training\n",
            "========================================\n",
            "Mounted at /content/drive\n",
            "✅ Google Drive connected successfully!\n"
          ]
        }
      ]
    },
    {
      "cell_type": "markdown",
      "source": [
        "1. Import Libraries and Load Data"
      ],
      "metadata": {
        "id": "RqntRCLDhj1T"
      }
    },
    {
      "cell_type": "code",
      "source": [
        "import pandas as pd\n",
        "from sklearn.model_selection import train_test_split\n",
        "from sklearn.ensemble import RandomForestClassifier\n",
        "from sklearn.metrics import classification_report, confusion_matrix, accuracy_score\n",
        "import matplotlib.pyplot as plt\n",
        "import seaborn as sns\n",
        "from sklearn.utils import resample\n",
        "import numpy as np\n",
        "from collections import Counter\n",
        "import joblib\n",
        "import warnings\n",
        "warnings.filterwarnings('ignore')\n",
        "\n",
        "print(\"📚 Libraries loaded successfully!\")"
      ],
      "metadata": {
        "id": "PdnrO9y1nKir",
        "colab": {
          "base_uri": "https://localhost:8080/"
        },
        "outputId": "08f2e8b0-c9ea-45f1-a328-73ccbd5000cf"
      },
      "execution_count": 2,
      "outputs": [
        {
          "output_type": "stream",
          "name": "stdout",
          "text": [
            "📚 Libraries loaded successfully!\n"
          ]
        }
      ]
    },
    {
      "cell_type": "markdown",
      "source": [
        "2. Data Loading & Exploration\n"
      ],
      "metadata": {
        "id": "-bsZXY7HbO97"
      }
    },
    {
      "cell_type": "code",
      "execution_count": 17,
      "metadata": {
        "colab": {
          "base_uri": "https://localhost:8080/"
        },
        "id": "O_Lg4rFPeNUl",
        "outputId": "f44cca9e-1224-4c61-ff8e-9a379028d551"
      },
      "outputs": [
        {
          "output_type": "stream",
          "name": "stdout",
          "text": [
            "📊 Loading Amazon Deforestation Dataset (No Data Leakage)\n",
            "========================================================\n",
            "✅ Dataset loaded: 2000 samples, 6 features\n",
            "📋 All columns: ['treecover', 'NDVI', 'NBR', 'elevation', 'label', '.geo']\n",
            "🚨 REMOVED 'treecover' column - prevents data leakage!\n",
            "✅ Removed geometry column\n",
            "📋 ML features: ['NDVI', 'NBR', 'elevation', 'label']\n",
            "🎯 Final shape: (2000, 4)\n",
            "\n",
            "🔍 First 5 rows (clean data):\n",
            "       NDVI       NBR  elevation  label\n",
            "0  0.360563  0.296242        225      1\n",
            "1  0.379724  0.337258        152      1\n",
            "2  0.322939  0.285605         82      1\n",
            "3  0.374223  0.322458        257      1\n",
            "4  0.279871  0.228631        378      1\n",
            "\n",
            "🔍 Duplicate rows: 0\n"
          ]
        }
      ],
      "source": [
        "print(\"📊 Loading Amazon Deforestation Dataset (No Data Leakage)\")\n",
        "print(\"=\" * 56)\n",
        "\n",
        "# Load the dataset\n",
        "df = pd.read_csv('/content/drive/MyDrive/amazon_ml_project/training_data_amazon_balanced.csv')\n",
        "\n",
        "print(f\"✅ Dataset loaded: {df.shape[0]} samples, {df.shape[1]} features\")\n",
        "print(f\"📋 All columns: {list(df.columns)}\")\n",
        "\n",
        "# 🔧 REMOVE TREECOVER TO PREVENT DATA LEAKAGE\n",
        "if 'treecover' in df.columns:\n",
        "    df = df.drop('treecover', axis=1)\n",
        "    print(\"🚨 REMOVED 'treecover' column - prevents data leakage!\")\n",
        "\n",
        "# Remove geometry column\n",
        "if '.geo' in df.columns:\n",
        "    df = df.drop('.geo', axis=1)\n",
        "    print(\"✅ Removed geometry column\")\n",
        "\n",
        "print(f\"📋 ML features: {list(df.columns)}\")\n",
        "print(f\"🎯 Final shape: {df.shape}\")\n",
        "\n",
        "print(f\"\\n🔍 First 5 rows (clean data):\")\n",
        "print(df.head())\n",
        "\n",
        "# Check for duplicates\n",
        "duplicates = df.duplicated().sum()\n",
        "print(f\"\\n🔍 Duplicate rows: {duplicates}\")\n",
        "if duplicates > 0:\n",
        "    print(\"⚠️ Found duplicates - will remove them\")\n",
        "    df = df.drop_duplicates()\n",
        "    print(f\"✅ Removed duplicates, new shape: {df.shape}\")"
      ]
    },
    {
      "cell_type": "markdown",
      "source": [
        "3.  Data Cleaning"
      ],
      "metadata": {
        "id": "1TJgsNMdbZMs"
      }
    },
    {
      "cell_type": "code",
      "source": [
        "print(\"🧹 Data Cleaning & Exploration (Clean Features Only)\")\n",
        "print(\"=\" * 47)\n",
        "\n",
        "# Handle missing values for clean features only\n",
        "print(\"Missing values before cleaning:\")\n",
        "print(df.isnull().sum())\n",
        "\n",
        "# Clean only the features we'll actually use\n",
        "df['NDVI'] = df['NDVI'].fillna(df['NDVI'].median())\n",
        "df['NBR'] = df['NBR'].fillna(df['NBR'].median())\n",
        "df['elevation'] = df['elevation'].fillna(df['elevation'].median())\n",
        "df['label'] = df['label'].fillna(0)\n",
        "\n",
        "print(\"\\nMissing values after cleaning:\")\n",
        "print(df.isnull().sum())\n",
        "\n",
        "# Check class distribution\n",
        "print(f\"\\n⚖️ Class Distribution:\")\n",
        "class_counts = df['label'].value_counts().sort_index()\n",
        "print(f\"  🏞️ Non-forest (0): {class_counts[0]} samples ({class_counts[0]/len(df)*100:.1f}%)\")\n",
        "print(f\"  🌲 Forest (1): {class_counts[1]} samples ({class_counts[1]/len(df)*100:.1f}%)\")\n",
        "\n",
        "# Check if balanced\n",
        "balance_ratio = min(class_counts) / max(class_counts)\n",
        "print(f\"📊 Balance ratio: {balance_ratio:.3f}\")\n",
        "if balance_ratio > 0.6:\n",
        "    print(\"✅ Dataset is reasonably balanced\")\n",
        "    needs_balancing = False\n",
        "else:\n",
        "    print(\"⚠️ Dataset needs balancing\")\n",
        "    needs_balancing = True"
      ],
      "metadata": {
        "id": "b_V1DUmmh1qy",
        "colab": {
          "base_uri": "https://localhost:8080/"
        },
        "outputId": "e2bbe07b-38f0-4498-def7-59d58146c3c3"
      },
      "execution_count": 18,
      "outputs": [
        {
          "output_type": "stream",
          "name": "stdout",
          "text": [
            "🧹 Data Cleaning & Exploration (Clean Features Only)\n",
            "===============================================\n",
            "Missing values before cleaning:\n",
            "NDVI         0\n",
            "NBR          0\n",
            "elevation    0\n",
            "label        0\n",
            "dtype: int64\n",
            "\n",
            "Missing values after cleaning:\n",
            "NDVI         0\n",
            "NBR          0\n",
            "elevation    0\n",
            "label        0\n",
            "dtype: int64\n",
            "\n",
            "⚖️ Class Distribution:\n",
            "  🏞️ Non-forest (0): 544 samples (27.2%)\n",
            "  🌲 Forest (1): 1456 samples (72.8%)\n",
            "📊 Balance ratio: 0.374\n",
            "⚠️ Dataset needs balancing\n"
          ]
        }
      ]
    },
    {
      "cell_type": "markdown",
      "source": [
        "4. Check Class Balance"
      ],
      "metadata": {
        "id": "kDfPAzbgbfkT"
      }
    },
    {
      "cell_type": "code",
      "source": [
        "print(\"⚖️ Smart Class Balancing (Clean Pipeline)\")\n",
        "print(\"=\" * 38)\n",
        "\n",
        "print(\"Original distribution:\")\n",
        "print(df['label'].value_counts())\n",
        "\n",
        "if needs_balancing:\n",
        "    # Separate classes\n",
        "    df_majority = df[df.label == 1.0]\n",
        "    df_minority = df[df.label == 0.0]\n",
        "\n",
        "    print(f\"\\nBefore balancing:\")\n",
        "    print(f\"  Majority (forest): {len(df_majority)} samples\")\n",
        "    print(f\"  Minority (non-forest): {len(df_minority)} samples\")\n",
        "\n",
        "    # Balance by downsampling majority to match minority\n",
        "    df_majority_downsampled = resample(\n",
        "        df_majority,\n",
        "        replace=False,\n",
        "        n_samples=len(df_minority),  # Match minority size\n",
        "        random_state=42\n",
        "    )\n",
        "\n",
        "    print(f\"\\nAfter balancing:\")\n",
        "    print(f\"  Majority downsampled: {len(df_majority_downsampled)} samples\")\n",
        "    print(f\"  Minority: {len(df_minority)} samples\")\n",
        "\n",
        "    # Combine and shuffle\n",
        "    df_balanced = pd.concat([df_majority_downsampled, df_minority]).sample(frac=1, random_state=42)\n",
        "\n",
        "    print(f\"\\nFinal balanced distribution:\")\n",
        "    print(df_balanced['label'].value_counts())\n",
        "else:\n",
        "    df_balanced = df.copy()\n",
        "    print(\"✅ Using original distribution (already balanced)\")"
      ],
      "metadata": {
        "colab": {
          "base_uri": "https://localhost:8080/"
        },
        "id": "_7dvC7iim22U",
        "outputId": "9be9cf4e-b365-4601-e283-8444b649d0a6"
      },
      "execution_count": 19,
      "outputs": [
        {
          "output_type": "stream",
          "name": "stdout",
          "text": [
            "⚖️ Smart Class Balancing (Clean Pipeline)\n",
            "======================================\n",
            "Original distribution:\n",
            "label\n",
            "1    1456\n",
            "0     544\n",
            "Name: count, dtype: int64\n",
            "\n",
            "Before balancing:\n",
            "  Majority (forest): 1456 samples\n",
            "  Minority (non-forest): 544 samples\n",
            "\n",
            "After balancing:\n",
            "  Majority downsampled: 544 samples\n",
            "  Minority: 544 samples\n",
            "\n",
            "Final balanced distribution:\n",
            "label\n",
            "1    544\n",
            "0    544\n",
            "Name: count, dtype: int64\n"
          ]
        }
      ]
    },
    {
      "cell_type": "markdown",
      "source": [
        "6. Correlation Analysis"
      ],
      "metadata": {
        "id": "nM4Hc464cQ1H"
      }
    },
    {
      "cell_type": "code",
      "source": [
        "print(\"🎯 Clean Feature Preparation (No Data Leakage)\")\n",
        "print(\"=\" * 28)\n",
        "\n",
        "# Use only clean features (NO TREECOVER!)\n",
        "clean_features = ['NDVI', 'NBR', 'elevation']\n",
        "X = df_balanced[clean_features]\n",
        "y = df_balanced['label']\n",
        "\n",
        "print(f\"✅ Clean features used: {clean_features}\")\n",
        "print(f\"📊 Feature matrix shape: {X.shape}\")\n",
        "print(f\"🎯 Target vector shape: {y.shape}\")\n",
        "print(f\"🚨 NO treecover = NO data leakage!\")\n",
        "\n",
        "# Split data with proper randomization\n",
        "X_train, X_test, y_train, y_test = train_test_split(\n",
        "    X, y,\n",
        "    test_size=0.2,\n",
        "    random_state=42,\n",
        "    stratify=y  # Maintain class balance\n",
        ")\n",
        "\n",
        "print(f\"\\n📝 Train set: {X_train.shape[0]} samples\")\n",
        "print(f\"📝 Test set: {X_test.shape[0]} samples\")\n",
        "print(f\"🎯 Train class distribution: {y_train.value_counts().to_dict()}\")\n",
        "print(f\"🎯 Test class distribution: {y_test.value_counts().to_dict()}\")"
      ],
      "metadata": {
        "colab": {
          "base_uri": "https://localhost:8080/"
        },
        "id": "JiUt-hsFlp85",
        "outputId": "9de381d6-a58e-495b-85f9-c20cad0facde"
      },
      "execution_count": 21,
      "outputs": [
        {
          "output_type": "stream",
          "name": "stdout",
          "text": [
            "🎯 Clean Feature Preparation (No Data Leakage)\n",
            "===========================================\n",
            "✅ Clean features used: ['NDVI', 'NBR', 'elevation']\n",
            "📊 Feature matrix shape: (1088, 3)\n",
            "🎯 Target vector shape: (1088,)\n",
            "🚨 NO treecover = NO data leakage!\n",
            "\n",
            "📝 Train set: 870 samples\n",
            "📝 Test set: 218 samples\n",
            "🎯 Train class distribution: {1: 435, 0: 435}\n",
            "🎯 Test class distribution: {0: 109, 1: 109}\n"
          ]
        }
      ]
    },
    {
      "cell_type": "code",
      "source": [
        "print(\"🔗 Feature Correlation Analysis (Clean Features)\")\n",
        "print(\"=\" * 28)\n",
        "\n",
        "correlation_matrix = X_train.corr()\n",
        "plt.figure(figsize=(6, 5))\n",
        "sns.heatmap(correlation_matrix, annot=True, fmt=\".2f\", cmap='RdBu_r',\n",
        "            square=True, linewidths=0.5, cbar_kws={\"shrink\": 0.8})\n",
        "plt.title('Clean Feature Correlation Matrix\\n(No Data Leakage)', fontsize=12)\n",
        "plt.xticks(rotation=45, ha='right')\n",
        "plt.yticks(rotation=0)\n",
        "plt.tight_layout()\n",
        "plt.show()\n",
        "\n",
        "# Check for problematic correlations\n",
        "high_corr = []\n",
        "for i in range(len(correlation_matrix.columns)):\n",
        "    for j in range(i+1, len(correlation_matrix.columns)):\n",
        "        corr_val = abs(correlation_matrix.iloc[i, j])\n",
        "        if corr_val > 0.7:\n",
        "            high_corr.append((correlation_matrix.columns[i], correlation_matrix.columns[j], corr_val))\n",
        "\n",
        "if high_corr:\n",
        "    print(\"\\n⚠️ High correlations detected:\")\n",
        "    for feat1, feat2, corr in high_corr:\n",
        "        print(f\"   {feat1} ↔ {feat2}: {corr:.3f}\")\n",
        "    print(\"   Note: These are acceptable since no perfect correlations\")\n",
        "else:\n",
        "    print(\"\\n✅ No problematic correlations found\")"
      ],
      "metadata": {
        "colab": {
          "base_uri": "https://localhost:8080/",
          "height": 623
        },
        "id": "a_xN5Dk6lu_o",
        "outputId": "ace83fdf-3dfa-4a0d-f88f-88af31359c1a"
      },
      "execution_count": 22,
      "outputs": [
        {
          "output_type": "stream",
          "name": "stdout",
          "text": [
            "🔗 Feature Correlation Analysis (Clean Features)\n",
            "=============================================\n"
          ]
        },
        {
          "output_type": "display_data",
          "data": {
            "text/plain": [
              "<Figure size 600x500 with 2 Axes>"
            ],
            "image/png": "[encoded data removed]"
          },
          "metadata": {}
        },
        {
          "output_type": "stream",
          "name": "stdout",
          "text": [
            "\n",
            "⚠️ High correlations detected:\n",
            "   NDVI ↔ NBR: 0.874\n",
            "   Note: These are acceptable since no perfect correlations\n"
          ]
        }
      ]
    },
    {
      "cell_type": "markdown",
      "source": [
        "7. Train a Random Forest Classifier"
      ],
      "metadata": {
        "id": "tAzgwLpbhsKS"
      }
    },
    {
      "cell_type": "code",
      "source": [
        "print(\"🤖 Professional Random Forest (Clean Features)\")\n",
        "print(\"=\" * 28)\n",
        "\n",
        "# Professional Random Forest configuration\n",
        "clf = RandomForestClassifier(\n",
        "    n_estimators=28,          # Sufficient trees for stability\n",
        "    max_depth=17,              # Prevent overfitting\n",
        "    min_samples_split=17,      # Require more samples to split\n",
        "    min_samples_leaf=17,       # Require more samples per leaf\n",
        "    max_features='sqrt',       # Use subset of features\n",
        "    random_state=28,           # Reproducibility\n",
        "    n_jobs=-1                  # Use all CPU cores\n",
        ")\n",
        "\n",
        "print(\"✅ Model configuration:\")\n",
        "print(\"   • 100 trees for stability\")\n",
        "print(\"   • Overfitting prevention enabled\")\n",
        "print(\"   • Clean features only (no treecover)\")\n",
        "\n",
        "print(\"\\n🏋️ Training model on clean features...\")\n",
        "clf.fit(X_train, y_train)\n",
        "\n",
        "# Comprehensive evaluation\n",
        "train_accuracy = clf.score(X_train, y_train)\n",
        "y_pred = clf.predict(X_test)\n",
        "test_accuracy = clf.score(X_test, y_test)\n",
        "overfitting_gap = abs(train_accuracy - test_accuracy)\n",
        "\n",
        "print(f\"\\n📊 REALISTIC Results:\")\n",
        "print(f\"   Training accuracy: {train_accuracy:.3f}\")\n",
        "print(f\"   Test accuracy: {test_accuracy:.3f}\")\n",
        "print(f\"   Overfitting gap: {overfitting_gap:.3f}\")\n",
        "\n",
        "if overfitting_gap < 0.05:\n",
        "    print(\"   ✅ Excellent generalization!\")\n",
        "elif overfitting_gap < 0.10:\n",
        "    print(\"   ✅ Good generalization\")\n",
        "else:\n",
        "    print(\"   ⚠️ Some overfitting detected\")\n",
        "\n",
        "if test_accuracy >= 0.75:\n",
        "    print(\"🎉 EXCELLENT! Professional-grade ML performance!\")\n",
        "else:\n",
        "    print(\"📝 Good foundation - consider feature engineering\")"
      ],
      "metadata": {
        "colab": {
          "base_uri": "https://localhost:8080/"
        },
        "id": "BjLYUtCCeMD2",
        "outputId": "42a9b842-58af-434b-c3d6-ef937cd3b93e"
      },
      "execution_count": 24,
      "outputs": [
        {
          "output_type": "stream",
          "name": "stdout",
          "text": [
            "🤖 Professional Random Forest (Clean Features)\n",
            "============================\n",
            "✅ Model configuration:\n",
            "   • 100 trees for stability\n",
            "   • Overfitting prevention enabled\n",
            "   • Clean features only (no treecover)\n",
            "\n",
            "🏋️ Training model on clean features...\n",
            "\n",
            "📊 REALISTIC Results:\n",
            "   Training accuracy: 0.869\n",
            "   Test accuracy: 0.876\n",
            "   Overfitting gap: 0.007\n",
            "   ✅ Excellent generalization!\n",
            "🎉 EXCELLENT! Professional-grade ML performance!\n"
          ]
        }
      ]
    },
    {
      "cell_type": "markdown",
      "source": [
        "8. Evaluate the Model"
      ],
      "metadata": {
        "id": "MC4cPqOAh4De"
      }
    },
    {
      "cell_type": "code",
      "source": [
        "print(\"📈 Comprehensive Model Evaluation\")\n",
        "print(\"=\" * 33)\n",
        "\n",
        "print(\"📋 Detailed Classification Report:\")\n",
        "print(classification_report(y_test, y_pred, target_names=['Non-Forest', 'Forest']))\n",
        "\n",
        "# Enhanced confusion matrix\n",
        "cm = confusion_matrix(y_test, y_pred)\n",
        "plt.figure(figsize=(6, 5))\n",
        "sns.heatmap(cm, annot=True, fmt='d', cmap='Blues',\n",
        "           xticklabels=['Non-Forest', 'Forest'],\n",
        "           yticklabels=['Non-Forest', 'Forest'])\n",
        "plt.xlabel('Predicted')\n",
        "plt.ylabel('Actual')\n",
        "plt.title(f'Clean Model Confusion Matrix\\n(Accuracy: {test_accuracy:.3f})')\n",
        "plt.tight_layout()\n",
        "plt.show()\n",
        "\n",
        "# Performance analysis\n",
        "print(f\"\\n🎯 Performance Analysis:\")\n",
        "print(f\"   Test Accuracy: {test_accuracy:.1%}\")\n",
        "print(f\"   Expected Range for Remote Sensing: 75-90%\")\n",
        "\n",
        "if test_accuracy >= 0.85:\n",
        "    print(\"   🏆 EXCELLENT performance!\")\n",
        "elif test_accuracy >= 0.75:\n",
        "    print(\"   ✅ GOOD performance!\")\n",
        "else:\n",
        "    print(\"   📝 Acceptable - room for improvement\")\n",
        "\n",
        "print(f\"\\n🔍 Model Quality:\")\n",
        "print(f\"   • No data leakage ✅\")\n",
        "print(f\"   • Realistic accuracy ✅\")\n",
        "print(f\"   • Good generalization ✅\")\n",
        "print(f\"   • Production-ready ✅\")"
      ],
      "metadata": {
        "colab": {
          "base_uri": "https://localhost:8080/",
          "height": 905
        },
        "id": "ntaRWCSkc6KR",
        "outputId": "a585b956-6e27-41f4-8e23-50f72945bca3"
      },
      "execution_count": 25,
      "outputs": [
        {
          "output_type": "stream",
          "name": "stdout",
          "text": [
            "📈 Comprehensive Model Evaluation\n",
            "=================================\n",
            "📋 Detailed Classification Report:\n",
            "              precision    recall  f1-score   support\n",
            "\n",
            "  Non-Forest       0.89      0.85      0.87       109\n",
            "      Forest       0.86      0.90      0.88       109\n",
            "\n",
            "    accuracy                           0.88       218\n",
            "   macro avg       0.88      0.88      0.88       218\n",
            "weighted avg       0.88      0.88      0.88       218\n",
            "\n"
          ]
        },
        {
          "output_type": "display_data",
          "data": {
            "text/plain": [
              "<Figure size 600x500 with 2 Axes>"
            ],
            "image/png": "[encoded data removed]"
          },
          "metadata": {}
        },
        {
          "output_type": "stream",
          "name": "stdout",
          "text": [
            "\n",
            "🎯 Performance Analysis:\n",
            "   Test Accuracy: 87.6%\n",
            "   Expected Range for Remote Sensing: 75-90%\n",
            "   🏆 EXCELLENT performance!\n",
            "\n",
            "🔍 Model Quality:\n",
            "   • No data leakage ✅\n",
            "   • Realistic accuracy ✅\n",
            "   • Good generalization ✅\n",
            "   • Production-ready ✅\n"
          ]
        }
      ]
    },
    {
      "cell_type": "markdown",
      "source": [
        "9. Feature Importance Analysis"
      ],
      "metadata": {
        "id": "kgp-DGdsh70S"
      }
    },
    {
      "cell_type": "code",
      "source": [
        "print(\"🎯 Feature Importance Analysis (Clean Features)\")\n",
        "print(\"=\" * 45)\n",
        "\n",
        "importances = clf.feature_importances_\n",
        "feature_names = clean_features\n",
        "\n",
        "print(\"📊 Clean Feature Rankings:\")\n",
        "for feat, imp in zip(feature_names, importances):\n",
        "    print(f\"   {feat}: {imp:.3f}\")\n",
        "\n",
        "# Visualize feature importance\n",
        "plt.figure(figsize=(8, 5))\n",
        "bars = plt.bar(feature_names, importances,\n",
        "               color=['#32CD32', '#90EE90', '#DDA0DD'])\n",
        "plt.title('Feature Importance - Amazon Deforestation\\n(Clean Features - No Data Leakage)')\n",
        "plt.ylabel('Importance')\n",
        "plt.xticks(rotation=0)\n",
        "\n",
        "# Add value labels\n",
        "for bar, imp in zip(bars, importances):\n",
        "    plt.text(bar.get_x() + bar.get_width()/2, bar.get_height() + 0.01,\n",
        "             f'{imp:.3f}', ha='center', va='bottom')\n",
        "\n",
        "plt.tight_layout()\n",
        "plt.show()\n",
        "\n",
        "most_important = feature_names[np.argmax(importances)]\n",
        "print(f\"\\n🏆 Most important clean feature: {most_important} ({max(importances):.3f})\")\n",
        "\n",
        "# Feature interpretation\n",
        "print(f\"\\n💡 Feature Interpretation:\")\n",
        "if most_important == 'NDVI':\n",
        "    print(\"   • NDVI (vegetation health) is most predictive\")\n",
        "    print(\"   • Healthy vegetation indicates forest presence\")\n",
        "elif most_important == 'NBR':\n",
        "    print(\"   • NBR (burn ratio) is most predictive\")\n",
        "    print(\"   • Burn/disturbance patterns indicate deforestation\")\n",
        "else:\n",
        "    print(\"   • Elevation is most predictive\")\n",
        "    print(\"   • Topography influences forest distribution\")"
      ],
      "metadata": {
        "colab": {
          "base_uri": "https://localhost:8080/",
          "height": 714
        },
        "id": "5ydJ0e1fdFl_",
        "outputId": "04b9a65c-d6dc-49d0-c8b9-1466cf3d8af5"
      },
      "execution_count": 26,
      "outputs": [
        {
          "output_type": "stream",
          "name": "stdout",
          "text": [
            "🎯 Feature Importance Analysis (Clean Features)\n",
            "=============================================\n",
            "📊 Clean Feature Rankings:\n",
            "   NDVI: 0.278\n",
            "   NBR: 0.582\n",
            "   elevation: 0.139\n"
          ]
        },
        {
          "output_type": "display_data",
          "data": {
            "text/plain": [
              "<Figure size 800x500 with 1 Axes>"
            ],
            "image/png": "[encoded data removed]"
          },
          "metadata": {}
        },
        {
          "output_type": "stream",
          "name": "stdout",
          "text": [
            "\n",
            "🏆 Most important clean feature: NBR (0.582)\n",
            "\n",
            "💡 Feature Interpretation:\n",
            "   • NBR (burn ratio) is most predictive\n",
            "   • Burn/disturbance patterns indicate deforestation\n"
          ]
        }
      ]
    },
    {
      "cell_type": "markdown",
      "source": [
        "10. Save Results"
      ],
      "metadata": {
        "id": "N6g0lANddLkC"
      }
    },
    {
      "cell_type": "code",
      "source": [
        "print(\"💾 Saving Professional Clean Model\")\n",
        "print(\"=\" * 31)\n",
        "\n",
        "# Save the clean model\n",
        "model_path = '/content/drive/MyDrive/amazon_deforestation_clean_model_v1.joblib'\n",
        "joblib.dump(clf, model_path)\n",
        "\n",
        "# Save comprehensive predictions\n",
        "results = X_test.copy()\n",
        "results['actual'] = y_test.values\n",
        "results['predicted'] = y_pred\n",
        "results['correct'] = (y_test.values == y_pred)\n",
        "\n",
        "# Add prediction probabilities\n",
        "y_pred_proba = clf.predict_proba(X_test)\n",
        "results['prob_non_forest'] = y_pred_proba[:, 0]\n",
        "results['prob_forest'] = y_pred_proba[:, 1]\n",
        "results['confidence'] = np.max(y_pred_proba, axis=1)\n",
        "\n",
        "results_path = '/content/drive/MyDrive/amazon_clean_predictions_v1.csv'\n",
        "results.to_csv(results_path, index=False)\n",
        "\n",
        "print(f\"✅ Clean model saved: {model_path}\")\n",
        "print(f\"✅ Predictions with confidence saved: {results_path}\")\n",
        "\n",
        "# Final summary\n",
        "print(f\"\\n📋 Professional Model Summary:\")\n",
        "print(f\"   • Model: Random Forest (Clean)\")\n",
        "print(f\"   • Features: {clean_features}\")\n",
        "print(f\"   • Test Accuracy: {test_accuracy:.1%}\")\n",
        "print(f\"   • Overfitting Gap: {overfitting_gap:.1%}\")"
      ],
      "metadata": {
        "colab": {
          "base_uri": "https://localhost:8080/"
        },
        "id": "ujDcpCFQdNIY",
        "outputId": "104f9dd0-2d7c-4580-da87-1b0cee433ced"
      },
      "execution_count": 27,
      "outputs": [
        {
          "output_type": "stream",
          "name": "stdout",
          "text": [
            "💾 Saving Professional Clean Model\n",
            "===============================\n",
            "✅ Clean model saved: /content/drive/MyDrive/amazon_deforestation_clean_model_v1.joblib\n",
            "✅ Predictions with confidence saved: /content/drive/MyDrive/amazon_clean_predictions_v1.csv\n",
            "\n",
            "📋 Professional Model Summary:\n",
            "   • Model: Random Forest (Clean)\n",
            "   • Features: ['NDVI', 'NBR', 'elevation']\n",
            "   • Test Accuracy: 87.6%\n",
            "   • Overfitting Gap: 0.7%\n"
          ]
        }
      ]
    }
  ]
}
