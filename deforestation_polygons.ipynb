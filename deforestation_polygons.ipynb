{
  "nbformat": 4,
  "nbformat_minor": 0,
  "metadata": {
    "colab": {
      "provenance": [],
      "authorship_tag": "ABX9TyO7niXrbcuAkBJR3/LMQSBX",
      "include_colab_link": true
    },
    "kernelspec": {
      "name": "python3",
      "display_name": "Python 3"
    },
    "language_info": {
      "name": "python"
    }
  },
  "cells": [
    {
      "cell_type": "markdown",
      "metadata": {
        "id": "view-in-github",
        "colab_type": "text"
      },
      "source": [
        "<a href=\"https://colab.research.google.com/github/ruany-doehnert/Deforestation_Amazon/blob/main/deforestation_polygons.ipynb\" target=\"_parent\"><img src=\"https://colab.research.google.com/assets/colab-badge.svg\" alt=\"Open In Colab\"/></a>"
      ]
    },
    {
      "cell_type": "code",
      "source": [
        "# %pip install geemap geopandas earthengine-api shapely scikit-learn pandas matplotlib seaborn\n"
      ],
      "metadata": {
        "id": "2HtrmMV1oMqE"
      },
      "execution_count": null,
      "outputs": []
    },
    {
      "cell_type": "code",
      "source": [
        "from zipfile import ZipFile\n",
        "import os\n",
        "\n",
        "# Mount Drive\n",
        "from google.colab import drive\n",
        "drive.mount('/content/drive')\n",
        "\n",
        "# Path where your files are stored\n",
        "folder_path = '/content/drive/MyDrive/deforestaion_amazon'\n",
        "\n",
        "# Create zip\n",
        "zip_path = os.path.join(folder_path, 'yearly_deforestation.zip')\n",
        "with ZipFile(zip_path, 'w') as zipf:\n",
        "    for ext in ['.shp', '.shx', '.dbf', '.prj']:\n",
        "        zipf.write(os.path.join(folder_path, 'yearly_deforestation' + ext),\n",
        "                   arcname='yearly_deforestation' + ext)\n",
        "\n",
        "print(\"ZIP created at:\", zip_path)"
      ],
      "metadata": {
        "colab": {
          "base_uri": "https://localhost:8080/",
          "height": 52
        },
        "id": "3P7dQNCBCs20",
        "outputId": "e597820c-e4ae-4165-eb52-54a50262eb83"
      },
      "execution_count": null,
      "outputs": [
        {
          "output_type": "display_data",
          "data": {
            "text/plain": [
              "<IPython.core.display.HTML object>"
            ],
            "text/html": [
              "\n",
              "            <style>\n",
              "                .geemap-dark {\n",
              "                    --jp-widgets-color: white;\n",
              "                    --jp-widgets-label-color: white;\n",
              "                    --jp-ui-font-color1: white;\n",
              "                    --jp-layout-color2: #454545;\n",
              "                    background-color: #383838;\n",
              "                }\n",
              "\n",
              "                .geemap-dark .jupyter-button {\n",
              "                    --jp-layout-color3: #383838;\n",
              "                }\n",
              "\n",
              "                .geemap-colab {\n",
              "                    background-color: var(--colab-primary-surface-color, white);\n",
              "                }\n",
              "\n",
              "                .geemap-colab .jupyter-button {\n",
              "                    --jp-layout-color3: var(--colab-primary-surface-color, white);\n",
              "                }\n",
              "            </style>\n",
              "            "
            ]
          },
          "metadata": {}
        },
        {
          "output_type": "stream",
          "name": "stdout",
          "text": [
            "Drive already mounted at /content/drive; to attempt to forcibly remount, call drive.mount(\"/content/drive\", force_remount=True).\n",
            "ZIP created at: /content/drive/MyDrive/deforestaion_amazon/yearly_deforestation.zip\n"
          ]
        }
      ]
    },
    {
      "cell_type": "code",
      "execution_count": 3,
      "metadata": {
        "colab": {
          "base_uri": "https://localhost:8080/"
        },
        "id": "j1NpPIIRnoNV",
        "outputId": "06c50b02-355f-4d9a-8f5f-55260b662041"
      },
      "outputs": [
        {
          "output_type": "stream",
          "name": "stdout",
          "text": [
            "Drive already mounted at /content/drive; to attempt to forcibly remount, call drive.mount(\"/content/drive\", force_remount=True).\n"
          ]
        }
      ],
      "source": [
        "# conect with google drive\n",
        "from google.colab import drive\n",
        "drive.mount('/content/drive')"
      ]
    },
    {
      "cell_type": "code",
      "source": [
        "import ee\n",
        "ee.Authenticate()\n",
        "ee.Initialize(project='amazon-deforestation-462101')\n",
        "\n",
        "# Load labeled deforestation samples\n",
        "labeled_def = ee.FeatureCollection('projects/amazon-deforestation-462101/assets/yearly_deforestation')\n",
        "\n",
        "# Define region of interest: selected Brazilian Amazon states\n",
        "brazil_states = ['Acre', 'Amazonas', 'Pará', 'Rondônia', 'Roraima']\n",
        "region = ee.FeatureCollection(\"FAO/GAUL/2015/level1\") \\\n",
        "    .filter(ee.Filter.inList('ADM1_NAME', brazil_states)) \\\n",
        "    .geometry()\n",
        "\n",
        "# Load and process Landsat 8 imagery\n",
        "landsat = ee.ImageCollection('LANDSAT/LC08/C02/T1_L2') \\\n",
        "    .filterDate('2021-01-01', '2021-12-31') \\\n",
        "    .filterBounds(region) \\\n",
        "    .map(lambda img: img.multiply(0.0000275).add(-0.2)) \\\n",
        "    .median()\n",
        "\n",
        "# Calculate NDVI and NBR indices\n",
        "ndvi = landsat.normalizedDifference(['SR_B5', 'SR_B4']).rename('NDVI')\n",
        "nbr = landsat.normalizedDifference(['SR_B5', 'SR_B7']).rename('NBR')\n",
        "\n",
        "# Select useful bands only\n",
        "selected_features = landsat.select(['SR_B3', 'SR_B4', 'SR_B5']) \\\n",
        "    .addBands([ndvi, nbr, ee.Image('USGS/SRTMGL1_003').rename('elevation')])"
      ],
      "metadata": {
        "id": "nKFHTdsXoHQN"
      },
      "execution_count": 4,
      "outputs": []
    },
    {
      "cell_type": "code",
      "source": [
        "# Use buffered geometry to reduce complexity of non-deforestation region\n",
        "buffered_def_geom = labeled_def.geometry().buffer(1000)  # 1km buffer to avoid edge overlap\n",
        "non_def_area = region.difference(buffered_def_geom, 1)\n",
        "\n",
        "# Sample non-deforestation points (negative class)\n",
        "non_def_samples = selected_features.sample(\n",
        "    region=non_def_area,\n",
        "    scale=30,\n",
        "    numPixels=2000,  # smaller number for faster export\n",
        "    seed=42,\n",
        "    geometries=False  # remove geometries to reduce size\n",
        ").map(lambda f: f.set('Class', 0))\n",
        "\n",
        "# Prepare labeled deforestation points (positive class)\n",
        "deforestation_samples = labeled_def.map(lambda f: f.set('Class', 1).setGeometry(None))\n",
        "\n",
        "# Merge both datasets\n",
        "training_samples = deforestation_samples.merge(non_def_samples)\n"
      ],
      "metadata": {
        "id": "janajKg8rFNs"
      },
      "execution_count": 5,
      "outputs": []
    },
    {
      "cell_type": "code",
      "source": [
        "# Export training data to Google Drive\n",
        "task = ee.batch.Export.table.toDrive(\n",
        "    collection=training_samples,\n",
        "    description='export_training_dataset_v2',\n",
        "    folder='earthengine_export',\n",
        "    fileNamePrefix='training_data_amazon_v2',\n",
        "    fileFormat='CSV'\n",
        ")\n",
        "\n",
        "task.start()\n",
        "print(\"🚀 Export started! Check your Google Drive shortly.\")\n"
      ],
      "metadata": {
        "colab": {
          "base_uri": "https://localhost:8080/"
        },
        "id": "yLx_TrdGrGvP",
        "outputId": "a23e2645-ea21-4b87-cfaa-f8d7735d7d11"
      },
      "execution_count": 6,
      "outputs": [
        {
          "output_type": "stream",
          "name": "stdout",
          "text": [
            "🚀 Export started! Check your Google Drive shortly.\n"
          ]
        }
      ]
    },
    {
      "cell_type": "code",
      "source": [],
      "metadata": {
        "id": "0NfZvG_orKnT"
      },
      "execution_count": null,
      "outputs": []
    }
  ]
}