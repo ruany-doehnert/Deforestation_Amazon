{
  "nbformat": 4,
  "nbformat_minor": 0,
  "metadata": {
    "colab": {
      "provenance": [],
      "authorship_tag": "ABX9TyPLq3fCFCQcL7lLulL2X6sL",
      "include_colab_link": true
    },
    "kernelspec": {
      "name": "python3",
      "display_name": "Python 3"
    },
    "language_info": {
      "name": "python"
    }
  },
  "cells": [
    {
      "cell_type": "markdown",
      "metadata": {
        "id": "view-in-github",
        "colab_type": "text"
      },
      "source": [
        "<a href=\"https://colab.research.google.com/github/ruany-doehnert/Deforestation_Amazon/blob/main/deforestation_polygons.ipynb\" target=\"_parent\"><img src=\"https://colab.research.google.com/assets/colab-badge.svg\" alt=\"Open In Colab\"/></a>"
      ]
    },
    {
      "cell_type": "code",
      "source": [
        "# %pip install geemap geopandas earthengine-api shapely scikit-learn pandas matplotlib seaborn\n"
      ],
      "metadata": {
        "id": "2HtrmMV1oMqE"
      },
      "execution_count": null,
      "outputs": []
    },
    {
      "cell_type": "code",
      "source": [
        "from zipfile import ZipFile\n",
        "import os\n",
        "\n",
        "# Mount Drive\n",
        "from google.colab import drive\n",
        "drive.mount('/content/drive')\n",
        "\n",
        "# Path where your files are stored\n",
        "folder_path = '/content/drive/MyDrive/deforestaion_amazon'\n",
        "\n",
        "# Create zip\n",
        "zip_path = os.path.join(folder_path, 'yearly_deforestation.zip')\n",
        "with ZipFile(zip_path, 'w') as zipf:\n",
        "    for ext in ['.shp', '.shx', '.dbf', '.prj']:\n",
        "        zipf.write(os.path.join(folder_path, 'yearly_deforestation' + ext),\n",
        "                   arcname='yearly_deforestation' + ext)\n",
        "\n",
        "print(\"ZIP created at:\", zip_path)"
      ],
      "metadata": {
        "colab": {
          "base_uri": "https://localhost:8080/",
          "height": 52
        },
        "id": "3P7dQNCBCs20",
        "outputId": "e597820c-e4ae-4165-eb52-54a50262eb83"
      },
      "execution_count": null,
      "outputs": [
        {
          "output_type": "display_data",
          "data": {
            "text/plain": [
              "<IPython.core.display.HTML object>"
            ],
            "text/html": [
              "\n",
              "            <style>\n",
              "                .geemap-dark {\n",
              "                    --jp-widgets-color: white;\n",
              "                    --jp-widgets-label-color: white;\n",
              "                    --jp-ui-font-color1: white;\n",
              "                    --jp-layout-color2: #454545;\n",
              "                    background-color: #383838;\n",
              "                }\n",
              "\n",
              "                .geemap-dark .jupyter-button {\n",
              "                    --jp-layout-color3: #383838;\n",
              "                }\n",
              "\n",
              "                .geemap-colab {\n",
              "                    background-color: var(--colab-primary-surface-color, white);\n",
              "                }\n",
              "\n",
              "                .geemap-colab .jupyter-button {\n",
              "                    --jp-layout-color3: var(--colab-primary-surface-color, white);\n",
              "                }\n",
              "            </style>\n",
              "            "
            ]
          },
          "metadata": {}
        },
        {
          "output_type": "stream",
          "name": "stdout",
          "text": [
            "Drive already mounted at /content/drive; to attempt to forcibly remount, call drive.mount(\"/content/drive\", force_remount=True).\n",
            "ZIP created at: /content/drive/MyDrive/deforestaion_amazon/yearly_deforestation.zip\n"
          ]
        }
      ]
    },
    {
      "cell_type": "code",
      "execution_count": null,
      "metadata": {
        "colab": {
          "base_uri": "https://localhost:8080/"
        },
        "id": "j1NpPIIRnoNV",
        "outputId": "44e38435-83b1-42b6-bc91-8f5c7a39bd4a"
      },
      "outputs": [
        {
          "output_type": "stream",
          "name": "stdout",
          "text": [
            "Mounted at /content/drive\n"
          ]
        }
      ],
      "source": [
        "# conect with google drive\n",
        "from google.colab import drive\n",
        "drive.mount('/content/drive')"
      ]
    },
    {
      "cell_type": "code",
      "source": [
        "import ee\n",
        "ee.Authenticate()\n",
        "ee.Initialize(project='amazon-deforestation-462101')"
      ],
      "metadata": {
        "id": "vG-JAcIoNE1j"
      },
      "execution_count": null,
      "outputs": []
    },
    {
      "cell_type": "code",
      "source": [
        "# Load deforestation samples early\n",
        "labeled_def = ee.FeatureCollection('projects/amazon-deforestation-462101/assets/yearly_deforestation')\n",
        "\n",
        "# Define region of interest\n",
        "brazil_states = ['Acre', 'Amazonas', 'Rondônia']\n",
        "region = ee.FeatureCollection(\"FAO/GAUL/2015/level1\") \\\n",
        "    .filter(ee.Filter.inList('ADM1_NAME', brazil_states)) \\\n",
        "    .geometry()\n",
        "\n",
        "# Buffered geometry to exclude around deforestation\n",
        "buffered_def_geom = labeled_def.geometry().buffer(1000)\n",
        "non_def_area = region.difference(buffered_def_geom, 1)\n",
        "\n",
        "# Load and process Landsat 8\n",
        "landsat = ee.ImageCollection('LANDSAT/LC08/C02/T1_L2') \\\n",
        "    .filterDate('2021-01-01', '2021-12-31') \\\n",
        "    .filterBounds(region) \\\n",
        "    .map(lambda img: img.multiply(0.0000275).add(-0.2)) \\\n",
        "    .median()\n",
        "\n",
        "# Calculate indices\n",
        "ndvi = landsat.normalizedDifference(['SR_B5', 'SR_B4']).rename('NDVI')\n",
        "nbr = landsat.normalizedDifference(['SR_B5', 'SR_B7']).rename('NBR')\n",
        "elevation = ee.Image('USGS/SRTMGL1_003').rename('elevation')\n",
        "\n",
        "# Select bands\n",
        "selected_features = landsat.select(['SR_B3', 'SR_B4', 'SR_B5']) \\\n",
        "    .addBands([ndvi, nbr, elevation])\n",
        "\n",
        "# Sample non-deforestation (negative)\n",
        "non_def_samples = selected_features.sample(\n",
        "    region=non_def_area,\n",
        "    scale=30,\n",
        "    numPixels=1000,\n",
        "    seed=42,\n",
        "    geometries=False\n",
        ").map(lambda f: f.set('Class', 0))\n",
        "\n",
        "# Prepare deforestation (positive)\n",
        "deforestation_samples = labeled_def.map(lambda f: f.set('Class', 1).setGeometry(None))\n",
        "\n",
        "# Merge and limit\n",
        "training_samples = deforestation_samples.merge(non_def_samples).limit(1000)\n",
        "\n",
        "# Export\n",
        "task = ee.batch.Export.table.toDrive(\n",
        "    collection=training_samples,\n",
        "    description='export_training_dataset_v2',\n",
        "    folder='earthengine_export',\n",
        "    fileNamePrefix='training_data_amazon_v2',\n",
        "    fileFormat='CSV',\n",
        "    selectors=['SR_B3', 'SR_B4', 'SR_B5', 'NDVI', 'NBR', 'elevation', 'Class']\n",
        ")\n",
        "\n",
        "task.start()\n",
        "print(\"🚀 Export started! Check your Google Drive shortly.\")\n"
      ],
      "metadata": {
        "colab": {
          "base_uri": "https://localhost:8080/"
        },
        "id": "3V7teNpeNEor",
        "outputId": "f935ce65-48e5-4b7b-f0b9-e9498cf9cfd8"
      },
      "execution_count": 5,
      "outputs": [
        {
          "output_type": "stream",
          "name": "stdout",
          "text": [
            "🚀 Export started! Check your Google Drive shortly.\n"
          ]
        }
      ]
    }
  ]
}